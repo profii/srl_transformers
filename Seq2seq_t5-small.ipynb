{
  "cells": [
    {
      "cell_type": "code",
      "execution_count": 1,
      "metadata": {
        "id": "DrlWzkzVscKI"
      },
      "outputs": [],
      "source": [
        "# ! pip install -U accelerate\n",
        "# ! pip install -U transformers\n",
        "\n",
        "# import os\n",
        "# os._exit(00)"
      ]
    },
    {
      "cell_type": "code",
      "execution_count": 2,
      "metadata": {
        "colab": {
          "base_uri": "https://localhost:8080/"
        },
        "id": "RsLIQEGFBsHe",
        "outputId": "d826c058-1464-421a-8f63-c7a00e42ffcb"
      },
      "outputs": [
        {
          "name": "stdout",
          "output_type": "stream",
          "text": [
            "Mounted at /content/drive\n"
          ]
        }
      ],
      "source": [
        "# Connect to Google Drive and upload a folder\n",
        "from google.colab import drive\n",
        "drive.mount('/content/drive')"
      ]
    },
    {
      "cell_type": "code",
      "execution_count": 1,
      "metadata": {
        "id": "wP6l09IkDF6b"
      },
      "outputs": [],
      "source": [
        "import pandas as pd\n",
        "import numpy as np\n",
        "import torch\n",
        "import re # Regular expression\n",
        "from tqdm import tqdm\n",
        "\n",
        "from torch.utils.data import Dataset\n",
        "from typing import List, Dict, Union\n",
        "from transformers import pipeline\n",
        "from transformers import Trainer, TrainingArguments, AutoTokenizer\n",
        "from transformers import DataCollatorForTokenClassification\n",
        "from transformers import AutoModelForTokenClassification\n",
        "\n",
        "from transformers import DataCollatorForSeq2Seq\n",
        "from transformers import T5ForConditionalGeneration\n",
        "\n",
        "import gc"
      ]
    },
    {
      "cell_type": "markdown",
      "metadata": {
        "id": "JiZ2GWjJF6-q"
      },
      "source": [
        "## Downloading Data"
      ]
    },
    {
      "cell_type": "code",
      "execution_count": null,
      "metadata": {
        "id": "9FgBOnngEgB-"
      },
      "outputs": [],
      "source": [
        "# !git clone https://github.com/s-nlp/semantic-role-labelling.git"
      ]
    },
    {
      "cell_type": "code",
      "execution_count": 2,
      "metadata": {
        "id": "T_OsWLxbDOPw"
      },
      "outputs": [],
      "source": [
        "path = '/content/drive/MyDrive/Colab Notebooks/NLP_project/train.tsv'\n",
        "path_dev = '/content/drive/MyDrive/Colab Notebooks/NLP_project/dev.tsv'"
      ]
    },
    {
      "cell_type": "code",
      "execution_count": 3,
      "metadata": {
        "id": "xx3Ki_gwEd4R"
      },
      "outputs": [],
      "source": [
        "df = pd.read_csv(path, sep='\\t', header= None, names=['data', 'label'],\n",
        "                 quoting=3, skip_blank_lines=False).fillna('_nan')\n",
        "\n",
        "df_dev = pd.read_csv(path_dev, sep='\\t', header= None, names=['data', 'label'],\n",
        "                 quoting=3, skip_blank_lines=False).fillna('_nan')"
      ]
    },
    {
      "cell_type": "code",
      "execution_count": 4,
      "metadata": {
        "colab": {
          "base_uri": "https://localhost:8080/",
          "height": 739
        },
        "id": "vD8Hfq9JEd0u",
        "outputId": "c81d4984-8dff-40a2-c0b9-6fb8ab99844a"
      },
      "outputs": [
        {
          "data": {
            "text/html": [
              "\n",
              "  <div id=\"df-ed53d1c1-adb4-4b82-b4dc-1e9df8b7a470\" class=\"colab-df-container\">\n",
              "    <div>\n",
              "<style scoped>\n",
              "    .dataframe tbody tr th:only-of-type {\n",
              "        vertical-align: middle;\n",
              "    }\n",
              "\n",
              "    .dataframe tbody tr th {\n",
              "        vertical-align: top;\n",
              "    }\n",
              "\n",
              "    .dataframe thead th {\n",
              "        text-align: right;\n",
              "    }\n",
              "</style>\n",
              "<table border=\"1\" class=\"dataframe\">\n",
              "  <thead>\n",
              "    <tr style=\"text-align: right;\">\n",
              "      <th></th>\n",
              "      <th>data</th>\n",
              "      <th>label</th>\n",
              "    </tr>\n",
              "  </thead>\n",
              "  <tbody>\n",
              "    <tr>\n",
              "      <th>0</th>\n",
              "      <td>also</td>\n",
              "      <td>O</td>\n",
              "    </tr>\n",
              "    <tr>\n",
              "      <th>1</th>\n",
              "      <td>,</td>\n",
              "      <td>O</td>\n",
              "    </tr>\n",
              "    <tr>\n",
              "      <th>2</th>\n",
              "      <td>i</td>\n",
              "      <td>O</td>\n",
              "    </tr>\n",
              "    <tr>\n",
              "      <th>3</th>\n",
              "      <td>have</td>\n",
              "      <td>O</td>\n",
              "    </tr>\n",
              "    <tr>\n",
              "      <th>4</th>\n",
              "      <td>recently</td>\n",
              "      <td>O</td>\n",
              "    </tr>\n",
              "    <tr>\n",
              "      <th>5</th>\n",
              "      <td>discovered</td>\n",
              "      <td>O</td>\n",
              "    </tr>\n",
              "    <tr>\n",
              "      <th>6</th>\n",
              "      <td>advil</td>\n",
              "      <td>B-Object</td>\n",
              "    </tr>\n",
              "    <tr>\n",
              "      <th>7</th>\n",
              "      <td>liquigels</td>\n",
              "      <td>O</td>\n",
              "    </tr>\n",
              "    <tr>\n",
              "      <th>8</th>\n",
              "      <td>work</td>\n",
              "      <td>O</td>\n",
              "    </tr>\n",
              "    <tr>\n",
              "      <th>9</th>\n",
              "      <td>much</td>\n",
              "      <td>O</td>\n",
              "    </tr>\n",
              "    <tr>\n",
              "      <th>10</th>\n",
              "      <td>better</td>\n",
              "      <td>B-Predicate</td>\n",
              "    </tr>\n",
              "    <tr>\n",
              "      <th>11</th>\n",
              "      <td>and</td>\n",
              "      <td>O</td>\n",
              "    </tr>\n",
              "    <tr>\n",
              "      <th>12</th>\n",
              "      <td>faster</td>\n",
              "      <td>B-Predicate</td>\n",
              "    </tr>\n",
              "    <tr>\n",
              "      <th>13</th>\n",
              "      <td>for</td>\n",
              "      <td>O</td>\n",
              "    </tr>\n",
              "    <tr>\n",
              "      <th>14</th>\n",
              "      <td>a</td>\n",
              "      <td>O</td>\n",
              "    </tr>\n",
              "    <tr>\n",
              "      <th>15</th>\n",
              "      <td>headache</td>\n",
              "      <td>B-Aspect</td>\n",
              "    </tr>\n",
              "    <tr>\n",
              "      <th>16</th>\n",
              "      <td>than</td>\n",
              "      <td>O</td>\n",
              "    </tr>\n",
              "    <tr>\n",
              "      <th>17</th>\n",
              "      <td>regular</td>\n",
              "      <td>O</td>\n",
              "    </tr>\n",
              "    <tr>\n",
              "      <th>18</th>\n",
              "      <td>ibuprofen</td>\n",
              "      <td>B-Object</td>\n",
              "    </tr>\n",
              "    <tr>\n",
              "      <th>19</th>\n",
              "      <td>.</td>\n",
              "      <td>O</td>\n",
              "    </tr>\n",
              "    <tr>\n",
              "      <th>20</th>\n",
              "      <td>_nan</td>\n",
              "      <td>_nan</td>\n",
              "    </tr>\n",
              "    <tr>\n",
              "      <th>21</th>\n",
              "      <td>i</td>\n",
              "      <td>O</td>\n",
              "    </tr>\n",
              "  </tbody>\n",
              "</table>\n",
              "</div>\n",
              "    <div class=\"colab-df-buttons\">\n",
              "\n",
              "  <div class=\"colab-df-container\">\n",
              "    <button class=\"colab-df-convert\" onclick=\"convertToInteractive('df-ed53d1c1-adb4-4b82-b4dc-1e9df8b7a470')\"\n",
              "            title=\"Convert this dataframe to an interactive table.\"\n",
              "            style=\"display:none;\">\n",
              "\n",
              "  <svg xmlns=\"http://www.w3.org/2000/svg\" height=\"24px\" viewBox=\"0 -960 960 960\">\n",
              "    <path d=\"M120-120v-720h720v720H120Zm60-500h600v-160H180v160Zm220 220h160v-160H400v160Zm0 220h160v-160H400v160ZM180-400h160v-160H180v160Zm440 0h160v-160H620v160ZM180-180h160v-160H180v160Zm440 0h160v-160H620v160Z\"/>\n",
              "  </svg>\n",
              "    </button>\n",
              "\n",
              "  <style>\n",
              "    .colab-df-container {\n",
              "      display:flex;\n",
              "      gap: 12px;\n",
              "    }\n",
              "\n",
              "    .colab-df-convert {\n",
              "      background-color: #E8F0FE;\n",
              "      border: none;\n",
              "      border-radius: 50%;\n",
              "      cursor: pointer;\n",
              "      display: none;\n",
              "      fill: #1967D2;\n",
              "      height: 32px;\n",
              "      padding: 0 0 0 0;\n",
              "      width: 32px;\n",
              "    }\n",
              "\n",
              "    .colab-df-convert:hover {\n",
              "      background-color: #E2EBFA;\n",
              "      box-shadow: 0px 1px 2px rgba(60, 64, 67, 0.3), 0px 1px 3px 1px rgba(60, 64, 67, 0.15);\n",
              "      fill: #174EA6;\n",
              "    }\n",
              "\n",
              "    .colab-df-buttons div {\n",
              "      margin-bottom: 4px;\n",
              "    }\n",
              "\n",
              "    [theme=dark] .colab-df-convert {\n",
              "      background-color: #3B4455;\n",
              "      fill: #D2E3FC;\n",
              "    }\n",
              "\n",
              "    [theme=dark] .colab-df-convert:hover {\n",
              "      background-color: #434B5C;\n",
              "      box-shadow: 0px 1px 3px 1px rgba(0, 0, 0, 0.15);\n",
              "      filter: drop-shadow(0px 1px 2px rgba(0, 0, 0, 0.3));\n",
              "      fill: #FFFFFF;\n",
              "    }\n",
              "  </style>\n",
              "\n",
              "    <script>\n",
              "      const buttonEl =\n",
              "        document.querySelector('#df-ed53d1c1-adb4-4b82-b4dc-1e9df8b7a470 button.colab-df-convert');\n",
              "      buttonEl.style.display =\n",
              "        google.colab.kernel.accessAllowed ? 'block' : 'none';\n",
              "\n",
              "      async function convertToInteractive(key) {\n",
              "        const element = document.querySelector('#df-ed53d1c1-adb4-4b82-b4dc-1e9df8b7a470');\n",
              "        const dataTable =\n",
              "          await google.colab.kernel.invokeFunction('convertToInteractive',\n",
              "                                                    [key], {});\n",
              "        if (!dataTable) return;\n",
              "\n",
              "        const docLinkHtml = 'Like what you see? Visit the ' +\n",
              "          '<a target=\"_blank\" href=https://colab.research.google.com/notebooks/data_table.ipynb>data table notebook</a>'\n",
              "          + ' to learn more about interactive tables.';\n",
              "        element.innerHTML = '';\n",
              "        dataTable['output_type'] = 'display_data';\n",
              "        await google.colab.output.renderOutput(dataTable, element);\n",
              "        const docLink = document.createElement('div');\n",
              "        docLink.innerHTML = docLinkHtml;\n",
              "        element.appendChild(docLink);\n",
              "      }\n",
              "    </script>\n",
              "  </div>\n",
              "\n",
              "\n",
              "<div id=\"df-d2512cb9-5b23-4899-9422-8ca5c60a3f8e\">\n",
              "  <button class=\"colab-df-quickchart\" onclick=\"quickchart('df-d2512cb9-5b23-4899-9422-8ca5c60a3f8e')\"\n",
              "            title=\"Suggest charts\"\n",
              "            style=\"display:none;\">\n",
              "\n",
              "<svg xmlns=\"http://www.w3.org/2000/svg\" height=\"24px\"viewBox=\"0 0 24 24\"\n",
              "     width=\"24px\">\n",
              "    <g>\n",
              "        <path d=\"M19 3H5c-1.1 0-2 .9-2 2v14c0 1.1.9 2 2 2h14c1.1 0 2-.9 2-2V5c0-1.1-.9-2-2-2zM9 17H7v-7h2v7zm4 0h-2V7h2v10zm4 0h-2v-4h2v4z\"/>\n",
              "    </g>\n",
              "</svg>\n",
              "  </button>\n",
              "\n",
              "<style>\n",
              "  .colab-df-quickchart {\n",
              "      --bg-color: #E8F0FE;\n",
              "      --fill-color: #1967D2;\n",
              "      --hover-bg-color: #E2EBFA;\n",
              "      --hover-fill-color: #174EA6;\n",
              "      --disabled-fill-color: #AAA;\n",
              "      --disabled-bg-color: #DDD;\n",
              "  }\n",
              "\n",
              "  [theme=dark] .colab-df-quickchart {\n",
              "      --bg-color: #3B4455;\n",
              "      --fill-color: #D2E3FC;\n",
              "      --hover-bg-color: #434B5C;\n",
              "      --hover-fill-color: #FFFFFF;\n",
              "      --disabled-bg-color: #3B4455;\n",
              "      --disabled-fill-color: #666;\n",
              "  }\n",
              "\n",
              "  .colab-df-quickchart {\n",
              "    background-color: var(--bg-color);\n",
              "    border: none;\n",
              "    border-radius: 50%;\n",
              "    cursor: pointer;\n",
              "    display: none;\n",
              "    fill: var(--fill-color);\n",
              "    height: 32px;\n",
              "    padding: 0;\n",
              "    width: 32px;\n",
              "  }\n",
              "\n",
              "  .colab-df-quickchart:hover {\n",
              "    background-color: var(--hover-bg-color);\n",
              "    box-shadow: 0 1px 2px rgba(60, 64, 67, 0.3), 0 1px 3px 1px rgba(60, 64, 67, 0.15);\n",
              "    fill: var(--button-hover-fill-color);\n",
              "  }\n",
              "\n",
              "  .colab-df-quickchart-complete:disabled,\n",
              "  .colab-df-quickchart-complete:disabled:hover {\n",
              "    background-color: var(--disabled-bg-color);\n",
              "    fill: var(--disabled-fill-color);\n",
              "    box-shadow: none;\n",
              "  }\n",
              "\n",
              "  .colab-df-spinner {\n",
              "    border: 2px solid var(--fill-color);\n",
              "    border-color: transparent;\n",
              "    border-bottom-color: var(--fill-color);\n",
              "    animation:\n",
              "      spin 1s steps(1) infinite;\n",
              "  }\n",
              "\n",
              "  @keyframes spin {\n",
              "    0% {\n",
              "      border-color: transparent;\n",
              "      border-bottom-color: var(--fill-color);\n",
              "      border-left-color: var(--fill-color);\n",
              "    }\n",
              "    20% {\n",
              "      border-color: transparent;\n",
              "      border-left-color: var(--fill-color);\n",
              "      border-top-color: var(--fill-color);\n",
              "    }\n",
              "    30% {\n",
              "      border-color: transparent;\n",
              "      border-left-color: var(--fill-color);\n",
              "      border-top-color: var(--fill-color);\n",
              "      border-right-color: var(--fill-color);\n",
              "    }\n",
              "    40% {\n",
              "      border-color: transparent;\n",
              "      border-right-color: var(--fill-color);\n",
              "      border-top-color: var(--fill-color);\n",
              "    }\n",
              "    60% {\n",
              "      border-color: transparent;\n",
              "      border-right-color: var(--fill-color);\n",
              "    }\n",
              "    80% {\n",
              "      border-color: transparent;\n",
              "      border-right-color: var(--fill-color);\n",
              "      border-bottom-color: var(--fill-color);\n",
              "    }\n",
              "    90% {\n",
              "      border-color: transparent;\n",
              "      border-bottom-color: var(--fill-color);\n",
              "    }\n",
              "  }\n",
              "</style>\n",
              "\n",
              "  <script>\n",
              "    async function quickchart(key) {\n",
              "      const quickchartButtonEl =\n",
              "        document.querySelector('#' + key + ' button');\n",
              "      quickchartButtonEl.disabled = true;  // To prevent multiple clicks.\n",
              "      quickchartButtonEl.classList.add('colab-df-spinner');\n",
              "      try {\n",
              "        const charts = await google.colab.kernel.invokeFunction(\n",
              "            'suggestCharts', [key], {});\n",
              "      } catch (error) {\n",
              "        console.error('Error during call to suggestCharts:', error);\n",
              "      }\n",
              "      quickchartButtonEl.classList.remove('colab-df-spinner');\n",
              "      quickchartButtonEl.classList.add('colab-df-quickchart-complete');\n",
              "    }\n",
              "    (() => {\n",
              "      let quickchartButtonEl =\n",
              "        document.querySelector('#df-d2512cb9-5b23-4899-9422-8ca5c60a3f8e button');\n",
              "      quickchartButtonEl.style.display =\n",
              "        google.colab.kernel.accessAllowed ? 'block' : 'none';\n",
              "    })();\n",
              "  </script>\n",
              "</div>\n",
              "    </div>\n",
              "  </div>\n"
            ],
            "text/plain": [
              "          data        label\n",
              "0         also            O\n",
              "1            ,            O\n",
              "2            i            O\n",
              "3         have            O\n",
              "4     recently            O\n",
              "5   discovered            O\n",
              "6        advil     B-Object\n",
              "7    liquigels            O\n",
              "8         work            O\n",
              "9         much            O\n",
              "10      better  B-Predicate\n",
              "11         and            O\n",
              "12      faster  B-Predicate\n",
              "13         for            O\n",
              "14           a            O\n",
              "15    headache     B-Aspect\n",
              "16        than            O\n",
              "17     regular            O\n",
              "18   ibuprofen     B-Object\n",
              "19           .            O\n",
              "20        _nan         _nan\n",
              "21           i            O"
            ]
          },
          "execution_count": 4,
          "metadata": {},
          "output_type": "execute_result"
        }
      ],
      "source": [
        "df.head(22)"
      ]
    },
    {
      "cell_type": "code",
      "execution_count": 5,
      "metadata": {
        "colab": {
          "base_uri": "https://localhost:8080/",
          "height": 206
        },
        "id": "w9POFiZ1fmyN",
        "outputId": "7a86d53a-ab35-4a2f-f183-7b1b9b268dcb"
      },
      "outputs": [
        {
          "data": {
            "text/html": [
              "\n",
              "  <div id=\"df-732d1e41-b76c-46b5-952c-3d95062a82f1\" class=\"colab-df-container\">\n",
              "    <div>\n",
              "<style scoped>\n",
              "    .dataframe tbody tr th:only-of-type {\n",
              "        vertical-align: middle;\n",
              "    }\n",
              "\n",
              "    .dataframe tbody tr th {\n",
              "        vertical-align: top;\n",
              "    }\n",
              "\n",
              "    .dataframe thead th {\n",
              "        text-align: right;\n",
              "    }\n",
              "</style>\n",
              "<table border=\"1\" class=\"dataframe\">\n",
              "  <thead>\n",
              "    <tr style=\"text-align: right;\">\n",
              "      <th></th>\n",
              "      <th>data</th>\n",
              "      <th>label</th>\n",
              "    </tr>\n",
              "  </thead>\n",
              "  <tbody>\n",
              "    <tr>\n",
              "      <th>0</th>\n",
              "      <td>meanwhile</td>\n",
              "      <td>O</td>\n",
              "    </tr>\n",
              "    <tr>\n",
              "      <th>1</th>\n",
              "      <td>,</td>\n",
              "      <td>O</td>\n",
              "    </tr>\n",
              "    <tr>\n",
              "      <th>2</th>\n",
              "      <td>though</td>\n",
              "      <td>O</td>\n",
              "    </tr>\n",
              "    <tr>\n",
              "      <th>3</th>\n",
              "      <td>windows</td>\n",
              "      <td>B-Object</td>\n",
              "    </tr>\n",
              "    <tr>\n",
              "      <th>4</th>\n",
              "      <td>8</td>\n",
              "      <td>I-Object</td>\n",
              "    </tr>\n",
              "  </tbody>\n",
              "</table>\n",
              "</div>\n",
              "    <div class=\"colab-df-buttons\">\n",
              "\n",
              "  <div class=\"colab-df-container\">\n",
              "    <button class=\"colab-df-convert\" onclick=\"convertToInteractive('df-732d1e41-b76c-46b5-952c-3d95062a82f1')\"\n",
              "            title=\"Convert this dataframe to an interactive table.\"\n",
              "            style=\"display:none;\">\n",
              "\n",
              "  <svg xmlns=\"http://www.w3.org/2000/svg\" height=\"24px\" viewBox=\"0 -960 960 960\">\n",
              "    <path d=\"M120-120v-720h720v720H120Zm60-500h600v-160H180v160Zm220 220h160v-160H400v160Zm0 220h160v-160H400v160ZM180-400h160v-160H180v160Zm440 0h160v-160H620v160ZM180-180h160v-160H180v160Zm440 0h160v-160H620v160Z\"/>\n",
              "  </svg>\n",
              "    </button>\n",
              "\n",
              "  <style>\n",
              "    .colab-df-container {\n",
              "      display:flex;\n",
              "      gap: 12px;\n",
              "    }\n",
              "\n",
              "    .colab-df-convert {\n",
              "      background-color: #E8F0FE;\n",
              "      border: none;\n",
              "      border-radius: 50%;\n",
              "      cursor: pointer;\n",
              "      display: none;\n",
              "      fill: #1967D2;\n",
              "      height: 32px;\n",
              "      padding: 0 0 0 0;\n",
              "      width: 32px;\n",
              "    }\n",
              "\n",
              "    .colab-df-convert:hover {\n",
              "      background-color: #E2EBFA;\n",
              "      box-shadow: 0px 1px 2px rgba(60, 64, 67, 0.3), 0px 1px 3px 1px rgba(60, 64, 67, 0.15);\n",
              "      fill: #174EA6;\n",
              "    }\n",
              "\n",
              "    .colab-df-buttons div {\n",
              "      margin-bottom: 4px;\n",
              "    }\n",
              "\n",
              "    [theme=dark] .colab-df-convert {\n",
              "      background-color: #3B4455;\n",
              "      fill: #D2E3FC;\n",
              "    }\n",
              "\n",
              "    [theme=dark] .colab-df-convert:hover {\n",
              "      background-color: #434B5C;\n",
              "      box-shadow: 0px 1px 3px 1px rgba(0, 0, 0, 0.15);\n",
              "      filter: drop-shadow(0px 1px 2px rgba(0, 0, 0, 0.3));\n",
              "      fill: #FFFFFF;\n",
              "    }\n",
              "  </style>\n",
              "\n",
              "    <script>\n",
              "      const buttonEl =\n",
              "        document.querySelector('#df-732d1e41-b76c-46b5-952c-3d95062a82f1 button.colab-df-convert');\n",
              "      buttonEl.style.display =\n",
              "        google.colab.kernel.accessAllowed ? 'block' : 'none';\n",
              "\n",
              "      async function convertToInteractive(key) {\n",
              "        const element = document.querySelector('#df-732d1e41-b76c-46b5-952c-3d95062a82f1');\n",
              "        const dataTable =\n",
              "          await google.colab.kernel.invokeFunction('convertToInteractive',\n",
              "                                                    [key], {});\n",
              "        if (!dataTable) return;\n",
              "\n",
              "        const docLinkHtml = 'Like what you see? Visit the ' +\n",
              "          '<a target=\"_blank\" href=https://colab.research.google.com/notebooks/data_table.ipynb>data table notebook</a>'\n",
              "          + ' to learn more about interactive tables.';\n",
              "        element.innerHTML = '';\n",
              "        dataTable['output_type'] = 'display_data';\n",
              "        await google.colab.output.renderOutput(dataTable, element);\n",
              "        const docLink = document.createElement('div');\n",
              "        docLink.innerHTML = docLinkHtml;\n",
              "        element.appendChild(docLink);\n",
              "      }\n",
              "    </script>\n",
              "  </div>\n",
              "\n",
              "\n",
              "<div id=\"df-1ef8e590-891b-4987-ac99-86b385fda44e\">\n",
              "  <button class=\"colab-df-quickchart\" onclick=\"quickchart('df-1ef8e590-891b-4987-ac99-86b385fda44e')\"\n",
              "            title=\"Suggest charts\"\n",
              "            style=\"display:none;\">\n",
              "\n",
              "<svg xmlns=\"http://www.w3.org/2000/svg\" height=\"24px\"viewBox=\"0 0 24 24\"\n",
              "     width=\"24px\">\n",
              "    <g>\n",
              "        <path d=\"M19 3H5c-1.1 0-2 .9-2 2v14c0 1.1.9 2 2 2h14c1.1 0 2-.9 2-2V5c0-1.1-.9-2-2-2zM9 17H7v-7h2v7zm4 0h-2V7h2v10zm4 0h-2v-4h2v4z\"/>\n",
              "    </g>\n",
              "</svg>\n",
              "  </button>\n",
              "\n",
              "<style>\n",
              "  .colab-df-quickchart {\n",
              "      --bg-color: #E8F0FE;\n",
              "      --fill-color: #1967D2;\n",
              "      --hover-bg-color: #E2EBFA;\n",
              "      --hover-fill-color: #174EA6;\n",
              "      --disabled-fill-color: #AAA;\n",
              "      --disabled-bg-color: #DDD;\n",
              "  }\n",
              "\n",
              "  [theme=dark] .colab-df-quickchart {\n",
              "      --bg-color: #3B4455;\n",
              "      --fill-color: #D2E3FC;\n",
              "      --hover-bg-color: #434B5C;\n",
              "      --hover-fill-color: #FFFFFF;\n",
              "      --disabled-bg-color: #3B4455;\n",
              "      --disabled-fill-color: #666;\n",
              "  }\n",
              "\n",
              "  .colab-df-quickchart {\n",
              "    background-color: var(--bg-color);\n",
              "    border: none;\n",
              "    border-radius: 50%;\n",
              "    cursor: pointer;\n",
              "    display: none;\n",
              "    fill: var(--fill-color);\n",
              "    height: 32px;\n",
              "    padding: 0;\n",
              "    width: 32px;\n",
              "  }\n",
              "\n",
              "  .colab-df-quickchart:hover {\n",
              "    background-color: var(--hover-bg-color);\n",
              "    box-shadow: 0 1px 2px rgba(60, 64, 67, 0.3), 0 1px 3px 1px rgba(60, 64, 67, 0.15);\n",
              "    fill: var(--button-hover-fill-color);\n",
              "  }\n",
              "\n",
              "  .colab-df-quickchart-complete:disabled,\n",
              "  .colab-df-quickchart-complete:disabled:hover {\n",
              "    background-color: var(--disabled-bg-color);\n",
              "    fill: var(--disabled-fill-color);\n",
              "    box-shadow: none;\n",
              "  }\n",
              "\n",
              "  .colab-df-spinner {\n",
              "    border: 2px solid var(--fill-color);\n",
              "    border-color: transparent;\n",
              "    border-bottom-color: var(--fill-color);\n",
              "    animation:\n",
              "      spin 1s steps(1) infinite;\n",
              "  }\n",
              "\n",
              "  @keyframes spin {\n",
              "    0% {\n",
              "      border-color: transparent;\n",
              "      border-bottom-color: var(--fill-color);\n",
              "      border-left-color: var(--fill-color);\n",
              "    }\n",
              "    20% {\n",
              "      border-color: transparent;\n",
              "      border-left-color: var(--fill-color);\n",
              "      border-top-color: var(--fill-color);\n",
              "    }\n",
              "    30% {\n",
              "      border-color: transparent;\n",
              "      border-left-color: var(--fill-color);\n",
              "      border-top-color: var(--fill-color);\n",
              "      border-right-color: var(--fill-color);\n",
              "    }\n",
              "    40% {\n",
              "      border-color: transparent;\n",
              "      border-right-color: var(--fill-color);\n",
              "      border-top-color: var(--fill-color);\n",
              "    }\n",
              "    60% {\n",
              "      border-color: transparent;\n",
              "      border-right-color: var(--fill-color);\n",
              "    }\n",
              "    80% {\n",
              "      border-color: transparent;\n",
              "      border-right-color: var(--fill-color);\n",
              "      border-bottom-color: var(--fill-color);\n",
              "    }\n",
              "    90% {\n",
              "      border-color: transparent;\n",
              "      border-bottom-color: var(--fill-color);\n",
              "    }\n",
              "  }\n",
              "</style>\n",
              "\n",
              "  <script>\n",
              "    async function quickchart(key) {\n",
              "      const quickchartButtonEl =\n",
              "        document.querySelector('#' + key + ' button');\n",
              "      quickchartButtonEl.disabled = true;  // To prevent multiple clicks.\n",
              "      quickchartButtonEl.classList.add('colab-df-spinner');\n",
              "      try {\n",
              "        const charts = await google.colab.kernel.invokeFunction(\n",
              "            'suggestCharts', [key], {});\n",
              "      } catch (error) {\n",
              "        console.error('Error during call to suggestCharts:', error);\n",
              "      }\n",
              "      quickchartButtonEl.classList.remove('colab-df-spinner');\n",
              "      quickchartButtonEl.classList.add('colab-df-quickchart-complete');\n",
              "    }\n",
              "    (() => {\n",
              "      let quickchartButtonEl =\n",
              "        document.querySelector('#df-1ef8e590-891b-4987-ac99-86b385fda44e button');\n",
              "      quickchartButtonEl.style.display =\n",
              "        google.colab.kernel.accessAllowed ? 'block' : 'none';\n",
              "    })();\n",
              "  </script>\n",
              "</div>\n",
              "    </div>\n",
              "  </div>\n"
            ],
            "text/plain": [
              "        data     label\n",
              "0  meanwhile         O\n",
              "1          ,         O\n",
              "2     though         O\n",
              "3    windows  B-Object\n",
              "4          8  I-Object"
            ]
          },
          "execution_count": 5,
          "metadata": {},
          "output_type": "execute_result"
        }
      ],
      "source": [
        "df_dev.head()"
      ]
    },
    {
      "cell_type": "code",
      "execution_count": 6,
      "metadata": {
        "colab": {
          "base_uri": "https://localhost:8080/"
        },
        "id": "stOeO7E1Edyp",
        "outputId": "77c41c50-49ed-43ee-95f2-04e728199861"
      },
      "outputs": [
        {
          "data": {
            "text/plain": [
              "((63408, 2), (8646, 2))"
            ]
          },
          "execution_count": 6,
          "metadata": {},
          "output_type": "execute_result"
        }
      ],
      "source": [
        "df.shape, df_dev.shape"
      ]
    },
    {
      "cell_type": "code",
      "execution_count": 7,
      "metadata": {
        "colab": {
          "base_uri": "https://localhost:8080/",
          "height": 35
        },
        "id": "YdDAVXUlEdwO",
        "outputId": "796dabed-d63c-4261-a68b-23bfbff262ee"
      },
      "outputs": [
        {
          "data": {
            "application/vnd.google.colaboratory.intrinsic+json": {
              "type": "string"
            },
            "text/plain": [
              "'\"'"
            ]
          },
          "execution_count": 7,
          "metadata": {},
          "output_type": "execute_result"
        }
      ],
      "source": [
        "df.data[592]"
      ]
    },
    {
      "cell_type": "markdown",
      "metadata": {
        "id": "U3NJ9KZWF-cs"
      },
      "source": [
        "## Preprocessing"
      ]
    },
    {
      "attachments": {},
      "cell_type": "markdown",
      "metadata": {
        "id": "WD8RVXXtGMHp"
      },
      "source": [
        "    - Separating data into sentences with empty lines (NaN).\n",
        "    - Clean punctuation into single dot.\n"
      ]
    },
    {
      "cell_type": "markdown",
      "metadata": {
        "id": "NftPLmrSXREJ"
      },
      "source": [
        "#### T5"
      ]
    },
    {
      "attachments": {},
      "cell_type": "markdown",
      "metadata": {
        "id": "ReD4PeWB6zpL"
      },
      "source": [
        "[two, four | money]"
      ]
    },
    {
      "cell_type": "code",
      "execution_count": 8,
      "metadata": {
        "id": "t9_Or0XsGJ-1"
      },
      "outputs": [],
      "source": [
        "'''\n",
        "### Instruction: Find all aspects , objects and predicates .\n",
        "\n",
        "### Input: in the content of search results , bing is not consistently superior to google .\n",
        "\n",
        "### Response: [ search results | aspect ] [ bing , google | object ] [ not , superior | predicate ]\n",
        "'''\n",
        "### Response: [ search results | aspect ] [ bing | object ] [ not | predicate ] [ superior | predicate ] [ google | object ] not quite well\n",
        "\n",
        "# Separating data into sentences with empty lines (NaN)\n",
        "\n",
        "def separate_text(df):\n",
        "    pattern = [\"###\", \"Instruction:\", \"Find\", \"all\", \"aspects\", \",\", \"objects\", \"and\", \"predicates\", \".\\n\\n###\", \"Input:\"]\n",
        "    end_pattern = [\"\\n\\n###\", \"Response:\"]\n",
        "    a_pattern = ['|','aspect',']']\n",
        "    o_pattern = ['|','object',']']\n",
        "    p_pattern = ['|','predicate',']']\n",
        "    sep = ','\n",
        "\n",
        "    input = [] # for input\n",
        "    output = []\n",
        "    sentence = []\n",
        "    prev_tag = ''\n",
        "    temp_a = False\n",
        "    temp_o = False\n",
        "    temp_p = False\n",
        "    a = [] # aspects\n",
        "    o = [] # objects\n",
        "    p = [] # predicates\n",
        "\n",
        "    for word, tag in df.values:\n",
        "        if word == '_nan':\n",
        "            input.append(pattern + sentence + end_pattern)\n",
        "            if len(a) != 0 and a[-1] == sep: del a[-1]\n",
        "            if len(o) != 0 and o[-1] == sep: del o[-1]\n",
        "            if len(p) != 0 and p[-1] == sep: del p[-1]\n",
        "            output.append(['['] + a + a_pattern + ['['] + o + o_pattern + ['['] + p + p_pattern)\n",
        "            sentence = []\n",
        "            a = []\n",
        "            o = []\n",
        "            p = []\n",
        "            temp_a = False\n",
        "            temp_o = False\n",
        "            temp_p = False\n",
        "            prev_tag = ''\n",
        "        else:\n",
        "            tag = tag.lower()\n",
        "            word = re.sub(r\"[\\\"\\—\\#\\$\\%\\&\\'\\(\\)\\*\\+\\,\\–\\-\\/\\:\\;\\<\\=\\>\\?\\@\\[\\\\\\]\\^\\?\\!\\_\\`\\{\\|\\}\\~\\«\\»ѣ\\№]\", \",\", word)\n",
        "            word = re.sub(r\"[,]+\", \",\", word)\n",
        "            word = re.sub(r\"[.]+\", \".\", word)\n",
        "\n",
        "            # If prev tag was the last one in a tag set\n",
        "            if prev_tag.split('-')[-1] != tag.split('-')[-1] or 'B-' in tag:\n",
        "                if temp_a: #tag.split('-')[-1] == 'aspect':\n",
        "                        a.append(sep)\n",
        "                        temp_a = False\n",
        "                if temp_o: #tag.split('-')[-1] == 'object':\n",
        "                        o.append(sep)\n",
        "                        temp_o = False\n",
        "                if temp_p: #tag.split('-')[-1] == 'predicate':\n",
        "                        p.append(sep)\n",
        "                        temp_p = False\n",
        "\n",
        "            if 'O' not in tag:\n",
        "                if tag.split('-')[-1] == 'aspect':\n",
        "                        a.append(word)\n",
        "                        temp_a = True\n",
        "                if tag.split('-')[-1] == 'object':\n",
        "                        o.append(word)\n",
        "                        temp_o = True\n",
        "                if tag.split('-')[-1] == 'predicate':\n",
        "                        p.append(word)\n",
        "                        temp_p = True\n",
        "\n",
        "            prev_tag = tag\n",
        "            sentence.append(word)\n",
        "\n",
        "    return input, output"
      ]
    },
    {
      "cell_type": "code",
      "execution_count": 9,
      "metadata": {
        "colab": {
          "base_uri": "https://localhost:8080/"
        },
        "id": "F9Q39gGEGNx1",
        "outputId": "73786b6d-c8d7-4a7b-a969-2c11084b5c0c"
      },
      "outputs": [
        {
          "name": "stdout",
          "output_type": "stream",
          "text": [
            "[['###', 'Instruction:', 'Find', 'all', 'aspects', ',', 'objects', 'and', 'predicates', '.\\n\\n###', 'Input:', 'also', ',', 'i', 'have', 'recently', 'discovered', 'advil', 'liquigels', 'work', 'much', 'better', 'and', 'faster', 'for', 'a', 'headache', 'than', 'regular', 'ibuprofen', '.', '\\n\\n###', 'Response:']]\n",
            "[['[', 'headache', '|', 'aspect', ']', '[', 'advil', ',', 'ibuprofen', '|', 'object', ']', '[', 'better', ',', 'faster', '|', 'predicate', ']']]\n"
          ]
        }
      ],
      "source": [
        "input, output = separate_text(df.iloc[:22])\n",
        "\n",
        "print(input)\n",
        "print(output)"
      ]
    },
    {
      "cell_type": "code",
      "execution_count": 10,
      "metadata": {
        "id": "wE-5otEYuA5C"
      },
      "outputs": [],
      "source": [
        "# Appling cleaning to df\n",
        "input, output = separate_text(df)\n",
        "input_dev, output_dev = separate_text(df_dev)"
      ]
    },
    {
      "cell_type": "code",
      "execution_count": 11,
      "metadata": {
        "colab": {
          "base_uri": "https://localhost:8080/"
        },
        "id": "AKzdWkfbuA5D",
        "outputId": "eaabfbf0-06ec-4207-fccb-2bcbf790b6b7"
      },
      "outputs": [
        {
          "name": "stdout",
          "output_type": "stream",
          "text": [
            "### Instruction: Find all aspects , objects and predicates .\n",
            "\n",
            "### Input: in the content of search results , bing is not consistently superior to google . \n",
            "\n",
            "### Response:\n",
            "[ search results | aspect ] [ bing , google | object ] [ not , superior | predicate ]\n"
          ]
        }
      ],
      "source": [
        "print(' '.join(input[-1]))\n",
        "print(' '.join(output[-1]))"
      ]
    },
    {
      "cell_type": "code",
      "execution_count": null,
      "metadata": {
        "id": "auDVK0SJt1lo"
      },
      "outputs": [],
      "source": []
    },
    {
      "cell_type": "markdown",
      "metadata": {
        "id": "pGbFgE2LtQqC"
      },
      "source": [
        "## Training model"
      ]
    },
    {
      "cell_type": "code",
      "execution_count": null,
      "metadata": {
        "id": "p4Dmeaw9iXGY"
      },
      "outputs": [],
      "source": [
        "### T5\n",
        "\n",
        "MODEL_NAME = 't5-small'\n",
        "IS_ENCODER_DECODER = True\n",
        "\n",
        "# tokenizer = T5Tokenizer.from_pretrained(MODEL_NAME)\n",
        "tokenizer = AutoTokenizer.from_pretrained(MODEL_NAME)\n",
        "\n",
        "model = T5ForConditionalGeneration.from_pretrained(MODEL_NAME).to('cuda')"
      ]
    },
    {
      "cell_type": "code",
      "execution_count": null,
      "metadata": {
        "id": "vSiOAP1ciXGb"
      },
      "outputs": [],
      "source": [
        "class PairsDataset(Dataset):\n",
        "    def __init__(self, x, y):\n",
        "        self.x = x\n",
        "        self.y = y\n",
        "\n",
        "    def __getitem__(self, idx):\n",
        "        assert idx <= len(self.x['input_ids']), (idx, len(self.x['input_ids']))\n",
        "        item = {key: val[idx] for key, val in self.x.items()}\n",
        "\n",
        "        item['labels'] = self.y['input_ids'][idx]\n",
        "        if IS_ENCODER_DECODER: item['decoder_attention_mask'] = self.y['attention_mask'][idx]\n",
        "\n",
        "        return item\n",
        "\n",
        "    @property\n",
        "    def n(self):\n",
        "        return len(self.x['input_ids'])\n",
        "\n",
        "    def __len__(self):\n",
        "        return self.n"
      ]
    },
    {
      "cell_type": "code",
      "execution_count": null,
      "metadata": {
        "id": "9TQML3Jpn80_"
      },
      "outputs": [],
      "source": [
        "class DataCollatorWithPadding:\n",
        "    def __init__(self, tokenizer):\n",
        "        self.tokenizer = tokenizer\n",
        "\n",
        "    def __call__(self, features: List[Dict[str, Union[List[int], torch.Tensor]]]) -> Dict[str, torch.Tensor]:\n",
        "        batch = self.tokenizer.pad(\n",
        "            features,\n",
        "            padding=True\n",
        "        )\n",
        "\n",
        "        if IS_ENCODER_DECODER:\n",
        "            ybatch = self.tokenizer.pad(\n",
        "                {'input_ids': batch['labels'], 'attention_mask': batch['decoder_attention_mask']},\n",
        "                padding=True\n",
        "            )\n",
        "        else:\n",
        "            ybatch = self.tokenizer.pad(\n",
        "            {'input_ids': batch['labels']},\n",
        "            padding=True\n",
        "            )\n",
        "\n",
        "        batch['labels'] = ybatch['input_ids']\n",
        "\n",
        "        if IS_ENCODER_DECODER: batch['decoder_attention_mask'] = ybatch['attention_mask']\n",
        "\n",
        "\n",
        "        return {k: torch.tensor(v) for k, v in batch.items()}"
      ]
    },
    {
      "cell_type": "code",
      "execution_count": null,
      "metadata": {
        "colab": {
          "base_uri": "https://localhost:8080/"
        },
        "id": "3mehyGEOkkrO",
        "outputId": "88fbd224-3ef1-4bda-9351-608d3adce782"
      },
      "outputs": [
        {
          "data": {
            "text/plain": [
              "114"
            ]
          },
          "execution_count": 18,
          "metadata": {},
          "output_type": "execute_result"
        }
      ],
      "source": [
        "max = 0\n",
        "for o in input:\n",
        "    if max < len(o):\n",
        "        max = len(o)\n",
        "max"
      ]
    },
    {
      "cell_type": "code",
      "execution_count": null,
      "metadata": {
        "id": "RKlZ3AwVjcFd"
      },
      "outputs": [],
      "source": [
        "### T5\n",
        "MAX_LENGTH = 200\n",
        "\n",
        "train_dataset = PairsDataset(tokenizer(input, padding='max_length', max_length=MAX_LENGTH, is_split_into_words=True),\n",
        "                             tokenizer(output, padding='max_length', max_length=MAX_LENGTH, is_split_into_words=True))\n",
        "dev_dataset = PairsDataset(tokenizer(input_dev, padding='max_length', max_length=MAX_LENGTH, is_split_into_words=True),\n",
        "                           tokenizer(output_dev, padding='max_length', max_length=MAX_LENGTH, is_split_into_words=True))\n",
        "\n",
        "data_collator = DataCollatorWithPadding(tokenizer=tokenizer)\n",
        "# data_collator = DataCollatorForSeq2Seq(tokenizer=tokenizer)"
      ]
    },
    {
      "cell_type": "code",
      "execution_count": null,
      "metadata": {
        "colab": {
          "base_uri": "https://localhost:8080/"
        },
        "id": "qhcgUXgCjcFd",
        "outputId": "054450b9-5ac7-491a-9313-d9761d2d3ad1"
      },
      "outputs": [
        {
          "name": "stdout",
          "output_type": "stream",
          "text": [
            "200 200\n",
            "1 1 \t 784 \t 1713 \t ▁# \t ▁[\n",
            "1 1 \t 12085 \t 30345 \t ## \t ▁headache\n",
            "1 1 \t 1820 \t 21035 \t ▁Instruction \t ▁|\n",
            "1 1 \t 2663 \t 10 \t : \t ▁aspect\n",
            "1 1 \t 3 \t 2588 \t ▁Find \t ▁\n",
            "1 1 \t 908 \t 66 \t ▁all \t ]\n",
            "1 1 \t 784 \t 3149 \t ▁aspects \t ▁[\n",
            "1 1 \t 3 \t 3 \t ▁ \t ▁\n",
            "1 1 \t 9 \t 6 \t , \t a\n",
            "1 1 \t 26 \t 4820 \t ▁objects \t d\n",
            "1 1 \t 6372 \t 11 \t ▁and \t vil\n",
            "1 1 \t 3 \t 554 \t ▁pre \t ▁\n",
            "1 1 \t 6 \t 11346 \t dica \t ,\n",
            "1 1 \t 3 \t 1422 \t tes \t ▁\n",
            "1 1 \t 23 \t 3 \t ▁ \t i\n",
            "1 1 \t 3007 \t 5 \t . \t bu\n",
            "1 1 \t 1409 \t 1713 \t ▁# \t pro\n",
            "1 1 \t 89 \t 30345 \t ## \t f\n",
            "1 1 \t 35 \t 86 \t ▁In \t en\n",
            "1 1 \t 1820 \t 2562 \t put \t ▁|\n",
            "1 1 \t 3735 \t 10 \t : \t ▁object\n",
            "1 1 \t 3 \t 92 \t ▁also \t ▁\n",
            "1 1 \t 908 \t 3 \t ▁ \t ]\n",
            "1 1 \t 784 \t 6 \t , \t ▁[\n",
            "1 1 \t 394 \t 3 \t ▁ \t ▁better\n",
            "1 1 \t 3 \t 23 \t i \t ▁\n",
            "1 1 \t 6 \t 43 \t ▁have \t ,\n",
            "1 1 \t 3627 \t 1310 \t ▁recently \t ▁faster\n",
            "1 1 \t 1820 \t 3883 \t ▁discovered \t ▁|\n",
            "1 1 \t 554 \t 3 \t ▁ \t ▁pre\n",
            "1 1 \t 4370 \t 9 \t a \t dic\n",
            "1 1 \t 342 \t 26 \t d \t ate\n",
            "1 1 \t 3 \t 6372 \t vil \t ▁\n",
            "1 1 \t 908 \t 3 \t ▁ \t ]\n",
            "1 1 \t 1 \t 40 \t l \t </s>\n",
            "1 0 \t 0 \t 23 \t i \t <pad>\n",
            "1 0 \t 0 \t 1169 \t qui \t <pad>\n",
            "1 0 \t 0 \t 1803 \t gel \t <pad>\n",
            "1 0 \t 0 \t 7 \t s \t <pad>\n"
          ]
        }
      ],
      "source": [
        "temp_f = train_dataset[0]\n",
        "\n",
        "print(len(temp_f['attention_mask']), len(temp_f['decoder_attention_mask']))\n",
        "\n",
        "z=0\n",
        "for i, d, j, k, c, l in zip(temp_f['attention_mask'],\n",
        "                            temp_f['decoder_attention_mask'],\n",
        "                            temp_f['labels'],\n",
        "                            temp_f['input_ids'],\n",
        "                            tokenizer.convert_ids_to_tokens(temp_f['input_ids']),\n",
        "                            tokenizer.convert_ids_to_tokens(temp_f['labels'])):\n",
        "\n",
        "    z+=1\n",
        "    if z == 40:\n",
        "        break\n",
        "    print(i, d, '\\t', j, '\\t', k, '\\t', c, '\\t', l)"
      ]
    },
    {
      "cell_type": "code",
      "execution_count": null,
      "metadata": {
        "id": "EkZD3mD7jcFe"
      },
      "outputs": [],
      "source": [
        "N_EPOCHS = 10\n",
        "BATCH_SIZE = 16\n",
        "\n",
        "args = TrainingArguments(output_dir=\"logs/model\",\n",
        "                         num_train_epochs=N_EPOCHS,\n",
        "                         per_device_train_batch_size=BATCH_SIZE,\n",
        "                         per_device_eval_batch_size=BATCH_SIZE,\n",
        "                         save_steps=10000000,\n",
        "                         logging_steps=200,\n",
        "                        #  load_best_model_at_end = False,\n",
        "                         evaluation_strategy = 'epoch',\n",
        "                        #  optim='adamw_torch',\n",
        "                        #  weight_decay=0.01,\n",
        "                         )\n",
        "\n",
        "\n",
        "trainer = Trainer(\n",
        "    model = model,\n",
        "    args = args,\n",
        "    train_dataset = train_dataset,\n",
        "    eval_dataset = dev_dataset,\n",
        "    tokenizer = tokenizer,\n",
        "    data_collator = data_collator,\n",
        "    # compute_metrics=compute_metrics\n",
        ")"
      ]
    },
    {
      "cell_type": "code",
      "execution_count": null,
      "metadata": {
        "colab": {
          "base_uri": "https://localhost:8080/",
          "height": 461
        },
        "id": "PhJFC0L4jcFe",
        "outputId": "a0c2cb39-fa10-4a67-f6b7-66c1b5bfacba"
      },
      "outputs": [
        {
          "name": "stderr",
          "output_type": "stream",
          "text": [
            "You're using a T5TokenizerFast tokenizer. Please note that with a fast tokenizer, using the `__call__` method is faster than using a method to encode the text followed by a call to the `pad` method to get a padded encoding.\n"
          ]
        },
        {
          "data": {
            "text/html": [
              "\n",
              "    <div>\n",
              "      \n",
              "      <progress value='1460' max='1460' style='width:300px; height:20px; vertical-align: middle;'></progress>\n",
              "      [1460/1460 11:06, Epoch 10/10]\n",
              "    </div>\n",
              "    <table border=\"1\" class=\"dataframe\">\n",
              "  <thead>\n",
              " <tr style=\"text-align: left;\">\n",
              "      <th>Epoch</th>\n",
              "      <th>Training Loss</th>\n",
              "      <th>Validation Loss</th>\n",
              "    </tr>\n",
              "  </thead>\n",
              "  <tbody>\n",
              "    <tr>\n",
              "      <td>1</td>\n",
              "      <td>No log</td>\n",
              "      <td>0.070253</td>\n",
              "    </tr>\n",
              "    <tr>\n",
              "      <td>2</td>\n",
              "      <td>0.755900</td>\n",
              "      <td>0.054400</td>\n",
              "    </tr>\n",
              "    <tr>\n",
              "      <td>3</td>\n",
              "      <td>0.060000</td>\n",
              "      <td>0.049433</td>\n",
              "    </tr>\n",
              "    <tr>\n",
              "      <td>4</td>\n",
              "      <td>0.060000</td>\n",
              "      <td>0.047257</td>\n",
              "    </tr>\n",
              "    <tr>\n",
              "      <td>5</td>\n",
              "      <td>0.048700</td>\n",
              "      <td>0.046660</td>\n",
              "    </tr>\n",
              "    <tr>\n",
              "      <td>6</td>\n",
              "      <td>0.042400</td>\n",
              "      <td>0.045293</td>\n",
              "    </tr>\n",
              "    <tr>\n",
              "      <td>7</td>\n",
              "      <td>0.038800</td>\n",
              "      <td>0.044539</td>\n",
              "    </tr>\n",
              "    <tr>\n",
              "      <td>8</td>\n",
              "      <td>0.038800</td>\n",
              "      <td>0.044768</td>\n",
              "    </tr>\n",
              "    <tr>\n",
              "      <td>9</td>\n",
              "      <td>0.037600</td>\n",
              "      <td>0.044458</td>\n",
              "    </tr>\n",
              "    <tr>\n",
              "      <td>10</td>\n",
              "      <td>0.036000</td>\n",
              "      <td>0.044434</td>\n",
              "    </tr>\n",
              "  </tbody>\n",
              "</table><p>"
            ],
            "text/plain": [
              "<IPython.core.display.HTML object>"
            ]
          },
          "metadata": {},
          "output_type": "display_data"
        },
        {
          "data": {
            "text/plain": [
              "TrainOutput(global_step=1460, training_loss=0.1410922488121137, metrics={'train_runtime': 668.1389, 'train_samples_per_second': 34.933, 'train_steps_per_second': 2.185, 'total_flos': 1233936580608000.0, 'train_loss': 0.1410922488121137, 'epoch': 10.0})"
            ]
          },
          "execution_count": 23,
          "metadata": {},
          "output_type": "execute_result"
        }
      ],
      "source": [
        "trainer.train()"
      ]
    },
    {
      "cell_type": "code",
      "execution_count": null,
      "metadata": {
        "id": "_AMdc8OimlkB"
      },
      "outputs": [],
      "source": [
        "name = 't5'"
      ]
    },
    {
      "cell_type": "code",
      "execution_count": null,
      "metadata": {
        "id": "Jy4sOY2omlkB"
      },
      "outputs": [],
      "source": [
        "saved_name = '_'.join([name, str(N_EPOCHS)+'ep', str(BATCH_SIZE)+'b'])\n",
        "\n",
        "dir = name+'/'+saved_name\n",
        "\n",
        "trainer.save_model(\"/content/drive/MyDrive/Colab Notebooks/NLP_project/models/\"+dir)"
      ]
    },
    {
      "cell_type": "code",
      "execution_count": null,
      "metadata": {
        "id": "DI_A9TRTW7Jx"
      },
      "outputs": [],
      "source": []
    },
    {
      "cell_type": "markdown",
      "metadata": {
        "id": "U5sgXH36TQeO"
      },
      "source": [
        "## Predicting"
      ]
    },
    {
      "cell_type": "code",
      "execution_count": 33,
      "metadata": {
        "id": "lh3TsBIkCzu2"
      },
      "outputs": [],
      "source": [
        "path_test = '/content/drive/MyDrive/Colab Notebooks/NLP_project/test_no_answers.tsv'\n",
        "path_dev = '/content/drive/MyDrive/Colab Notebooks/NLP_project/dev.tsv'\n",
        "\n",
        "df_test = pd.read_csv(path_test, sep='\\t', header= None, names=['data'], quoting=3)\n",
        "\n",
        "df_testo = pd.read_csv(path_test, sep='\\t', header= None, names=['data'],\n",
        "                      quoting=3, skip_blank_lines=False).fillna('_nan')\n",
        "\n",
        "df_dev = pd.read_csv(path_dev, sep='\\t', header= None, names=['data', 'labels'], quoting=3)\n",
        "\n",
        "df_devo = pd.read_csv(path_dev, sep='\\t', header= None, names=['data', 'labels'],\n",
        "                      quoting=3, skip_blank_lines=False).fillna('_nan')"
      ]
    },
    {
      "cell_type": "code",
      "execution_count": 34,
      "metadata": {
        "id": "2dKHoujon-J7"
      },
      "outputs": [],
      "source": [
        "df_devo.drop('labels', axis='columns', inplace=True)"
      ]
    },
    {
      "cell_type": "code",
      "execution_count": 35,
      "metadata": {
        "colab": {
          "base_uri": "https://localhost:8080/"
        },
        "id": "gW6wNhnwN7Yj",
        "outputId": "eb189fde-f533-414c-9bf3-b153f8b8452f"
      },
      "outputs": [
        {
          "data": {
            "text/plain": [
              "((9444, 1), (9804, 1))"
            ]
          },
          "execution_count": 35,
          "metadata": {},
          "output_type": "execute_result"
        }
      ],
      "source": [
        "df_test.shape, df_testo.shape"
      ]
    },
    {
      "cell_type": "code",
      "execution_count": 36,
      "metadata": {
        "colab": {
          "base_uri": "https://localhost:8080/"
        },
        "id": "fmfHSDB1h4q6",
        "outputId": "752ec699-c1a6-40ee-e1c3-5d509c6e3a74"
      },
      "outputs": [
        {
          "data": {
            "text/plain": [
              "((8363, 2), (8646, 1))"
            ]
          },
          "execution_count": 36,
          "metadata": {},
          "output_type": "execute_result"
        }
      ],
      "source": [
        "df_dev.shape, df_devo.shape"
      ]
    },
    {
      "cell_type": "code",
      "execution_count": 14,
      "metadata": {
        "id": "YvKfjnpAS4p3"
      },
      "outputs": [],
      "source": [
        "saved_model_name = 't5_10ep_16b'\n",
        "dir = 't5/'+saved_model_name\n",
        "\n",
        "model = T5ForConditionalGeneration.from_pretrained(\"/content/drive/MyDrive/Colab Notebooks/NLP_project/models/\"+dir).to('cuda')\n",
        "tokenizer = AutoTokenizer.from_pretrained(\"/content/drive/MyDrive/Colab Notebooks/NLP_project/models/\"+dir)"
      ]
    },
    {
      "cell_type": "code",
      "execution_count": 37,
      "metadata": {
        "id": "Sk1iHQya4wE4"
      },
      "outputs": [],
      "source": [
        "'''\n",
        "### Instruction: Find all aspects , objects and predicates .\n",
        "\n",
        "### Input: in the content of search results , bing is not consistently superior to google .\n",
        "\n",
        "### Response:\n",
        "'''\n",
        "\n",
        "# Separating data into sentences with empty lines (NaN)\n",
        "\n",
        "def separate_text_end(df):\n",
        "    pattern = [\"###\", \"Instruction:\", \"Find\", \"all\", \"aspects\", \",\", \"objects\", \"and\", \"predicates\", \".\\n\\n###\", \"Input:\"]\n",
        "    end_pattern = [\"\\n\\n###\", \"Response:\"]\n",
        "    input = []\n",
        "    sentence = []\n",
        "\n",
        "    for word in df['data']:\n",
        "        if word == '_nan':\n",
        "            input.append(pattern + sentence + end_pattern)\n",
        "            sentence = []\n",
        "        else:\n",
        "            word = re.sub(r\"[\\\"\\—\\#\\$\\%\\&\\'\\(\\)\\*\\+\\,\\–\\-\\/\\:\\;\\<\\=\\>\\?\\@\\[\\\\\\]\\^\\?\\!\\_\\`\\{\\|\\}\\~\\«\\»ѣ\\№]\", \",\", word)\n",
        "            word = re.sub(r\"[,]+\", \",\", word)\n",
        "            word = re.sub(r\"[.]+\", \".\", word)\n",
        "\n",
        "            sentence.append(word)\n",
        "\n",
        "    return input"
      ]
    },
    {
      "cell_type": "code",
      "execution_count": 38,
      "metadata": {
        "id": "iQxPIgDj6gF-"
      },
      "outputs": [],
      "source": [
        "nlp = pipeline(\"text2text-generation\", model=model, tokenizer=tokenizer, device='cuda')"
      ]
    },
    {
      "cell_type": "code",
      "execution_count": 39,
      "metadata": {
        "colab": {
          "base_uri": "https://localhost:8080/"
        },
        "id": "6L60XjfndFUW",
        "outputId": "003284ee-d3b0-4f33-e8ff-c906117fb71a"
      },
      "outputs": [
        {
          "name": "stdout",
          "output_type": "stream",
          "text": [
            "[ risk , compared | aspect ] [ windows , windows , windows \n"
          ]
        },
        {
          "name": "stderr",
          "output_type": "stream",
          "text": [
            "/usr/local/lib/python3.10/dist-packages/transformers/generation/utils.py:1273: UserWarning: Using the model-agnostic default `max_length` (=20) to control the generation length. We recommend setting `max_new_tokens` to control the maximum length of the generation.\n",
            "  warnings.warn(\n"
          ]
        }
      ],
      "source": [
        "sents = separate_text_end(df_devo)\n",
        "\n",
        "# print(sents[0])\n",
        "res = nlp(' '.join(sents[0]))[0]\n",
        "\n",
        "print(res['generated_text'])"
      ]
    },
    {
      "cell_type": "code",
      "execution_count": null,
      "metadata": {
        "colab": {
          "base_uri": "https://localhost:8080/"
        },
        "id": "X8Yhml1rp1cE",
        "outputId": "00e6a57c-8da3-4f15-e9c0-9c62c66e786a"
      },
      "outputs": [
        {
          "name": "stderr",
          "output_type": "stream",
          "text": [
            "/usr/local/lib/python3.10/dist-packages/transformers/generation/configuration_utils.py:418: UserWarning: `num_beams` is set to 1. However, `early_stopping` is set to `True` -- this flag is only used in beam-based generation modes. You should set `num_beams>1` or unset `early_stopping`.\n",
            "  warnings.warn(\n"
          ]
        },
        {
          "name": "stdout",
          "output_type": "stream",
          "text": [
            "['###', 'Instruction:', 'Find', 'all', 'aspects', ',', 'objects', 'and', 'predicates', '.\\n\\n###', 'Input:', 'meanwhile', ',', 'though', 'windows', '8', 'is', 'significantly', 'at', 'greater', 'risk', ',', '1', '.', '73', 'percent', ',', 'compared', 'to', 'windows', '8', '.', '1', ',', 'according', 'to', 'redmond', ',', 's', 'report', ',', 'it', ',', 's', 'still', 'significantly', 'safer', 'than', 'windows', '7', ',', 'windows', 'xp', ',', 'or', 'windows', 'vista', '.', '\\n\\n###', 'Response:']\n",
            "[ risk, compared | aspect ] [ windows'8. 1 | object ], safer | predicate ].\n",
            "['###', 'Instruction:', 'Find', 'all', 'aspects', ',', 'objects', 'and', 'predicates', '.\\n\\n###', 'Input:', 'windows', '7', 'is', 'still', 'going', 'strong', 'even', 'though', 'the', 'day', 'was', 'about', 'windows', '8', ',', 'microsoft', 'announced', 'it', ',', 's', 'approaching', '450', 'million', 'copies', 'of', 'windows', '7', 'sold', 'thus', 'far', ',', 'with', 'windows', '7', 'consumer', 'usage', 'coming', 'in', 'greater', 'than', 'windows', 'xp', '.', '\\n\\n###', 'Response:']\n",
            "[ consumer usage | aspect ] [ windows, windows | object ], greater | predicate )\n",
            "['###', 'Instruction:', 'Find', 'all', 'aspects', ',', 'objects', 'and', 'predicates', '.\\n\\n###', 'Input:', 'i', 'have', 'tried', 'windows', '8', 'and', 'it', ',', 's', 'lighter', 'than', 'windows', 'xp', '.', '\\n\\n###', 'Response:']\n",
            "[ | aspect ] [ windows, windows | object ], lighter | predicate ].\n"
          ]
        }
      ],
      "source": [
        "sents = separate_text_end(df_devo)\n",
        "\n",
        "for s in sents[:3]:\n",
        "    input_ids = tokenizer.encode(s, return_tensors=\"pt\", is_split_into_words=True)\n",
        "\n",
        "    outputs = model.generate(input_ids.to(\"cuda\"), no_repeat_ngram_size=2,\n",
        "                             max_new_tokens=2048,\n",
        "                             num_return_sequences=1, early_stopping=True)\n",
        "\n",
        "    decoded = tokenizer.decode(outputs[0], skip_special_tokens=True)\n",
        "\n",
        "    print(s)\n",
        "    print(decoded)\n",
        "    # res = []\n",
        "    # for d in decoded.split():\n",
        "    #     if d.isdigit() and int(d) <= 6:\n",
        "    #         res.append(ids_to_labels[d])\n",
        "    #     else:\n",
        "    #         res.append('O')\n",
        "\n",
        "    # if len(res) != len(s):\n",
        "    #     print('Nooo')\n",
        "    #     for i in range(len(res), len(s)):\n",
        "    #             res.append('O')\n",
        "\n",
        "    # if len(res) != len(s):\n",
        "    #     print('Nooo')\n",
        "    # print(res)\n",
        "    # print('--------')"
      ]
    },
    {
      "cell_type": "code",
      "execution_count": 40,
      "metadata": {
        "id": "HqULkzoYp1Yr"
      },
      "outputs": [],
      "source": [
        "# MAX_LENGTH = 180\n",
        "\n",
        "def evaluate(dfo):\n",
        "    indexes_nan = []\n",
        "    labels_list = []\n",
        "    sents = separate_text_end(dfo)\n",
        "    i = 0\n",
        "\n",
        "    for sent in tqdm(sents):\n",
        "        input_ids = tokenizer.encode(sent, return_tensors=\"pt\", is_split_into_words=True)\n",
        "\n",
        "        outputs = model.generate(input_ids.to(\"cuda\"), no_repeat_ngram_size=6,\n",
        "                                max_new_tokens=2048,\n",
        "                                num_return_sequences=1, early_stopping=True)\n",
        "\n",
        "        decoded = tokenizer.decode(outputs[0], skip_special_tokens=True)\n",
        "\n",
        "        if i < 8:\n",
        "            i += 1\n",
        "            print(len(decoded))\n",
        "            print(len(sent))\n",
        "            print(decoded)\n",
        "            print('--------')\n",
        "            print(labels_list)\n",
        "\n",
        "        labels_list.append(decoded)\n",
        "\n",
        "    return labels_list"
      ]
    },
    {
      "cell_type": "code",
      "execution_count": 41,
      "metadata": {
        "id": "Ta3f_08cYwnC"
      },
      "outputs": [],
      "source": [
        "model_name = 'dev'\n",
        "# model_name = 'test'"
      ]
    },
    {
      "cell_type": "code",
      "execution_count": 42,
      "metadata": {
        "colab": {
          "base_uri": "https://localhost:8080/"
        },
        "id": "Kt7buh69F9dR",
        "outputId": "d41a8792-2595-4ba3-a21e-c072387be4e0"
      },
      "outputs": [
        {
          "name": "stderr",
          "output_type": "stream",
          "text": [
            "\r  0%|          | 0/360 [00:00<?, ?it/s]/usr/local/lib/python3.10/dist-packages/transformers/generation/configuration_utils.py:418: UserWarning: `num_beams` is set to 1. However, `early_stopping` is set to `True` -- this flag is only used in beam-based generation modes. You should set `num_beams>1` or unset `early_stopping`.\n",
            "  warnings.warn(\n",
            "  0%|          | 1/360 [00:00<03:10,  1.89it/s]"
          ]
        },
        {
          "name": "stdout",
          "output_type": "stream",
          "text": [
            "100\n",
            "36\n",
            "[ developing | aspect ] [ android, ios, ioos, a laptop replacement | object ] [ faster | predicate ]\n",
            "--------\n",
            "[]\n"
          ]
        },
        {
          "name": "stderr",
          "output_type": "stream",
          "text": [
            "\r  1%|          | 2/360 [00:00<02:32,  2.34it/s]"
          ]
        },
        {
          "name": "stdout",
          "output_type": "stream",
          "text": [
            "61\n",
            "28\n",
            "[ | aspect ] [ android, ios | object ] [ better | predicate ]\n",
            "--------\n",
            "['[ developing | aspect ] [ android, ios, ioos, a laptop replacement | object ] [ faster | predicate ]']\n"
          ]
        },
        {
          "name": "stderr",
          "output_type": "stream",
          "text": [
            "\r  1%|          | 3/360 [00:01<02:20,  2.53it/s]"
          ]
        },
        {
          "name": "stdout",
          "output_type": "stream",
          "text": [
            "72\n",
            "44\n",
            "[ supported | aspect ] [ ios, android | object ] [ earlier | predicate ]\n",
            "--------\n",
            "['[ developing | aspect ] [ android, ios, ioos, a laptop replacement | object ] [ faster | predicate ]', '[ | aspect ] [ android, ios | object ] [ better | predicate ]']\n"
          ]
        },
        {
          "name": "stderr",
          "output_type": "stream",
          "text": [
            "\r  1%|          | 4/360 [00:01<02:47,  2.13it/s]"
          ]
        },
        {
          "name": "stdout",
          "output_type": "stream",
          "text": [
            "74\n",
            "37\n",
            "[ use | aspect ] [ android, ios | object ] [ better, simpler | predicate ]\n",
            "--------\n",
            "['[ developing | aspect ] [ android, ios, ioos, a laptop replacement | object ] [ faster | predicate ]', '[ | aspect ] [ android, ios | object ] [ better | predicate ]', '[ supported | aspect ] [ ios, android | object ] [ earlier | predicate ]']\n"
          ]
        },
        {
          "name": "stderr",
          "output_type": "stream",
          "text": [
            "\r  1%|▏         | 5/360 [00:02<03:43,  1.59it/s]"
          ]
        },
        {
          "name": "stdout",
          "output_type": "stream",
          "text": [
            "91\n",
            "49\n",
            "[ functions | aspect ] [ bada, android, ios, wp7 | object ] [ simpler, faster | predicate ]\n",
            "--------\n",
            "['[ developing | aspect ] [ android, ios, ioos, a laptop replacement | object ] [ faster | predicate ]', '[ | aspect ] [ android, ios | object ] [ better | predicate ]', '[ supported | aspect ] [ ios, android | object ] [ earlier | predicate ]', '[ use | aspect ] [ android, ios | object ] [ better, simpler | predicate ]']\n"
          ]
        },
        {
          "name": "stderr",
          "output_type": "stream",
          "text": [
            "\r  2%|▏         | 6/360 [00:03<03:41,  1.60it/s]"
          ]
        },
        {
          "name": "stdout",
          "output_type": "stream",
          "text": [
            "66\n",
            "33\n",
            "[ use | aspect ] [ ios, android | object ] [ simpler | predicate ]\n",
            "--------\n",
            "['[ developing | aspect ] [ android, ios, ioos, a laptop replacement | object ] [ faster | predicate ]', '[ | aspect ] [ android, ios | object ] [ better | predicate ]', '[ supported | aspect ] [ ios, android | object ] [ earlier | predicate ]', '[ use | aspect ] [ android, ios | object ] [ better, simpler | predicate ]', '[ functions | aspect ] [ bada, android, ios, wp7 | object ] [ simpler, faster | predicate ]']\n"
          ]
        },
        {
          "name": "stderr",
          "output_type": "stream",
          "text": [
            "\r  2%|▏         | 7/360 [00:04<03:46,  1.56it/s]"
          ]
        },
        {
          "name": "stdout",
          "output_type": "stream",
          "text": [
            "66\n",
            "34\n",
            "[ use | aspect ] [ ios, android | object ] [ simpler | predicate ]\n",
            "--------\n",
            "['[ developing | aspect ] [ android, ios, ioos, a laptop replacement | object ] [ faster | predicate ]', '[ | aspect ] [ android, ios | object ] [ better | predicate ]', '[ supported | aspect ] [ ios, android | object ] [ earlier | predicate ]', '[ use | aspect ] [ android, ios | object ] [ better, simpler | predicate ]', '[ functions | aspect ] [ bada, android, ios, wp7 | object ] [ simpler, faster | predicate ]', '[ use | aspect ] [ ios, android | object ] [ simpler | predicate ]']\n"
          ]
        },
        {
          "name": "stderr",
          "output_type": "stream",
          "text": [
            "\r  2%|▏         | 8/360 [00:04<03:52,  1.51it/s]"
          ]
        },
        {
          "name": "stdout",
          "output_type": "stream",
          "text": [
            "67\n",
            "37\n",
            "[ | aspect ] [ android, ios | object ] [ not inferior | predicate ]\n",
            "--------\n",
            "['[ developing | aspect ] [ android, ios, ioos, a laptop replacement | object ] [ faster | predicate ]', '[ | aspect ] [ android, ios | object ] [ better | predicate ]', '[ supported | aspect ] [ ios, android | object ] [ earlier | predicate ]', '[ use | aspect ] [ android, ios | object ] [ better, simpler | predicate ]', '[ functions | aspect ] [ bada, android, ios, wp7 | object ] [ simpler, faster | predicate ]', '[ use | aspect ] [ ios, android | object ] [ simpler | predicate ]', '[ use | aspect ] [ ios, android | object ] [ simpler | predicate ]']\n"
          ]
        },
        {
          "name": "stderr",
          "output_type": "stream",
          "text": [
            "100%|██████████| 360/360 [02:46<00:00,  2.16it/s]\n"
          ]
        }
      ],
      "source": [
        "### T5\n",
        "\n",
        "if model_name == 'dev':\n",
        "    labels_list = evaluate(df_devo)\n",
        "else:\n",
        "    labels_list = evaluate(df_testo)"
      ]
    },
    {
      "cell_type": "code",
      "execution_count": 43,
      "metadata": {
        "colab": {
          "base_uri": "https://localhost:8080/",
          "height": 35
        },
        "id": "asaX0l9wRDsg",
        "outputId": "84c04f99-746a-4f2a-a1e1-b3e0b7af1ce2"
      },
      "outputs": [
        {
          "data": {
            "application/vnd.google.colaboratory.intrinsic+json": {
              "type": "string"
            },
            "text/plain": [
              "'[ | aspect ] [ android, ios | object ] [ better | predicate ]'"
            ]
          },
          "execution_count": 43,
          "metadata": {},
          "output_type": "execute_result"
        }
      ],
      "source": [
        "labels_list[1]"
      ]
    },
    {
      "cell_type": "code",
      "execution_count": 44,
      "metadata": {
        "id": "Yjm79DLZUdLV"
      },
      "outputs": [],
      "source": [
        "from more_itertools import locate"
      ]
    },
    {
      "cell_type": "code",
      "execution_count": 45,
      "metadata": {
        "colab": {
          "base_uri": "https://localhost:8080/"
        },
        "id": "NW_8nzWKPQdn",
        "outputId": "a74f993f-eada-48e7-af45-6c2d6163e9c3"
      },
      "outputs": [
        {
          "name": "stderr",
          "output_type": "stream",
          "text": [
            "100%|██████████| 9804/9804 [00:00<00:00, 686998.07it/s]\n"
          ]
        }
      ],
      "source": [
        "labels = []\n",
        "i = 0\n",
        "sent = []\n",
        "labeled_sent = [] # for output\n",
        "tags = []\n",
        "BIO = ['Aspect', 'Object', 'Predicate']\n",
        "indexes_nan = [0]\n",
        "\n",
        "# for d in tqdm(df_devo.data): # dev\n",
        "for d in tqdm(df_testo.data): # test\n",
        "    if d == '_nan':\n",
        "        labels = labels_list[i].split('] [')\n",
        "\n",
        "        # print(sent)\n",
        "        # print(tags)\n",
        "        # print(labels)\n",
        "\n",
        "        for l in range(len(labels)):\n",
        "            word_list = labels[l].split('|')[0].replace('[', '').strip().split(',')\n",
        "\n",
        "            # print(l)\n",
        "            # print(word_list)\n",
        "\n",
        "            for j in word_list:\n",
        "                j = j.strip()\n",
        "                # print(j)\n",
        "                if ' ' in j:\n",
        "                    for beg, elem in enumerate(j.split()):\n",
        "                        if beg == 0:\n",
        "                            if elem in sent: tags[sent.index(elem)] = 'B-' + BIO[l]\n",
        "                        else:\n",
        "                            if elem in sent: tags[sent.index(elem)] = 'I-' + BIO[l]\n",
        "                elif j in sent:\n",
        "                    indices = locate(sent, lambda x: x == j)\n",
        "                    for inde in indices:\n",
        "                        tags[inde] = 'B-' + BIO[l]\n",
        "\n",
        "        # print(tags)\n",
        "        i += 1\n",
        "        labeled_sent.extend(tags)\n",
        "        indexes_nan.append(indexes_nan[-1] + len(tags))\n",
        "        sent = []\n",
        "        tags = []\n",
        "    else:\n",
        "        sent.append(d)\n",
        "        tags.append('O')"
      ]
    },
    {
      "cell_type": "code",
      "execution_count": 46,
      "metadata": {
        "colab": {
          "base_uri": "https://localhost:8080/"
        },
        "id": "8EP3Z7jqj8K0",
        "outputId": "eea13a4f-9d3e-46f8-9215-4130a1bfed03"
      },
      "outputs": [
        {
          "name": "stdout",
          "output_type": "stream",
          "text": [
            "[0, 23, 38, 69, 93, 129, 149, 170, 194, 207]\n"
          ]
        }
      ],
      "source": [
        "print(indexes_nan[:10])"
      ]
    },
    {
      "cell_type": "code",
      "execution_count": 47,
      "metadata": {
        "colab": {
          "base_uri": "https://localhost:8080/"
        },
        "id": "e-4WLsAPVlPV",
        "outputId": "92b1b92d-df60-446c-e87a-a7021389e703"
      },
      "outputs": [
        {
          "data": {
            "text/plain": [
              "9444"
            ]
          },
          "execution_count": 47,
          "metadata": {},
          "output_type": "execute_result"
        }
      ],
      "source": [
        "len(labeled_sent)"
      ]
    },
    {
      "cell_type": "code",
      "execution_count": 48,
      "metadata": {
        "id": "bXQxmURCPQcC"
      },
      "outputs": [],
      "source": [
        "if model_name == 'dev':\n",
        "    df_dev['labels'] = labeled_sent # dev\n",
        "else:\n",
        "    df_test['labels'] = labeled_sent # test"
      ]
    },
    {
      "cell_type": "code",
      "execution_count": 49,
      "metadata": {
        "colab": {
          "base_uri": "https://localhost:8080/",
          "height": 1000
        },
        "id": "fGm9Z8lnZqRV",
        "outputId": "c90629cc-5de5-400a-bff4-b06436554094"
      },
      "outputs": [
        {
          "data": {
            "text/html": [
              "\n",
              "  <div id=\"df-9614a2e7-5f72-41d9-afc7-d27618834b39\" class=\"colab-df-container\">\n",
              "    <div>\n",
              "<style scoped>\n",
              "    .dataframe tbody tr th:only-of-type {\n",
              "        vertical-align: middle;\n",
              "    }\n",
              "\n",
              "    .dataframe tbody tr th {\n",
              "        vertical-align: top;\n",
              "    }\n",
              "\n",
              "    .dataframe thead th {\n",
              "        text-align: right;\n",
              "    }\n",
              "</style>\n",
              "<table border=\"1\" class=\"dataframe\">\n",
              "  <thead>\n",
              "    <tr style=\"text-align: right;\">\n",
              "      <th></th>\n",
              "      <th>data</th>\n",
              "      <th>labels</th>\n",
              "    </tr>\n",
              "  </thead>\n",
              "  <tbody>\n",
              "    <tr>\n",
              "      <th>0</th>\n",
              "      <td>plus</td>\n",
              "      <td>O</td>\n",
              "    </tr>\n",
              "    <tr>\n",
              "      <th>1</th>\n",
              "      <td>,</td>\n",
              "      <td>O</td>\n",
              "    </tr>\n",
              "    <tr>\n",
              "      <th>2</th>\n",
              "      <td>android</td>\n",
              "      <td>B-Object</td>\n",
              "    </tr>\n",
              "    <tr>\n",
              "      <th>3</th>\n",
              "      <td>is</td>\n",
              "      <td>O</td>\n",
              "    </tr>\n",
              "    <tr>\n",
              "      <th>4</th>\n",
              "      <td>developing</td>\n",
              "      <td>B-Aspect</td>\n",
              "    </tr>\n",
              "    <tr>\n",
              "      <th>5</th>\n",
              "      <td>a</td>\n",
              "      <td>B-Object</td>\n",
              "    </tr>\n",
              "    <tr>\n",
              "      <th>6</th>\n",
              "      <td>way</td>\n",
              "      <td>O</td>\n",
              "    </tr>\n",
              "    <tr>\n",
              "      <th>7</th>\n",
              "      <td>faster</td>\n",
              "      <td>B-Predicate</td>\n",
              "    </tr>\n",
              "    <tr>\n",
              "      <th>8</th>\n",
              "      <td>than</td>\n",
              "      <td>O</td>\n",
              "    </tr>\n",
              "    <tr>\n",
              "      <th>9</th>\n",
              "      <td>ios</td>\n",
              "      <td>B-Object</td>\n",
              "    </tr>\n",
              "    <tr>\n",
              "      <th>10</th>\n",
              "      <td>so</td>\n",
              "      <td>O</td>\n",
              "    </tr>\n",
              "    <tr>\n",
              "      <th>11</th>\n",
              "      <td>it</td>\n",
              "      <td>O</td>\n",
              "    </tr>\n",
              "    <tr>\n",
              "      <th>12</th>\n",
              "      <td>has</td>\n",
              "      <td>O</td>\n",
              "    </tr>\n",
              "    <tr>\n",
              "      <th>13</th>\n",
              "      <td>chances</td>\n",
              "      <td>O</td>\n",
              "    </tr>\n",
              "    <tr>\n",
              "      <th>14</th>\n",
              "      <td>to</td>\n",
              "      <td>O</td>\n",
              "    </tr>\n",
              "    <tr>\n",
              "      <th>15</th>\n",
              "      <td>become</td>\n",
              "      <td>O</td>\n",
              "    </tr>\n",
              "    <tr>\n",
              "      <th>16</th>\n",
              "      <td>a</td>\n",
              "      <td>O</td>\n",
              "    </tr>\n",
              "    <tr>\n",
              "      <th>17</th>\n",
              "      <td>laptop</td>\n",
              "      <td>I-Object</td>\n",
              "    </tr>\n",
              "    <tr>\n",
              "      <th>18</th>\n",
              "      <td>replacement</td>\n",
              "      <td>I-Object</td>\n",
              "    </tr>\n",
              "    <tr>\n",
              "      <th>19</th>\n",
              "      <td>earlier</td>\n",
              "      <td>O</td>\n",
              "    </tr>\n",
              "    <tr>\n",
              "      <th>20</th>\n",
              "      <td>than</td>\n",
              "      <td>O</td>\n",
              "    </tr>\n",
              "    <tr>\n",
              "      <th>21</th>\n",
              "      <td>ios</td>\n",
              "      <td>B-Object</td>\n",
              "    </tr>\n",
              "    <tr>\n",
              "      <th>22</th>\n",
              "      <td>.</td>\n",
              "      <td>O</td>\n",
              "    </tr>\n",
              "    <tr>\n",
              "      <th>23</th>\n",
              "      <td>went</td>\n",
              "      <td>O</td>\n",
              "    </tr>\n",
              "    <tr>\n",
              "      <th>24</th>\n",
              "      <td>to</td>\n",
              "      <td>O</td>\n",
              "    </tr>\n",
              "    <tr>\n",
              "      <th>25</th>\n",
              "      <td>android</td>\n",
              "      <td>B-Object</td>\n",
              "    </tr>\n",
              "    <tr>\n",
              "      <th>26</th>\n",
              "      <td>earlier</td>\n",
              "      <td>O</td>\n",
              "    </tr>\n",
              "    <tr>\n",
              "      <th>27</th>\n",
              "      <td>this</td>\n",
              "      <td>O</td>\n",
              "    </tr>\n",
              "    <tr>\n",
              "      <th>28</th>\n",
              "      <td>year</td>\n",
              "      <td>O</td>\n",
              "    </tr>\n",
              "    <tr>\n",
              "      <th>29</th>\n",
              "      <td>after</td>\n",
              "      <td>O</td>\n",
              "    </tr>\n",
              "    <tr>\n",
              "      <th>30</th>\n",
              "      <td>being</td>\n",
              "      <td>O</td>\n",
              "    </tr>\n",
              "    <tr>\n",
              "      <th>31</th>\n",
              "      <td>convinced</td>\n",
              "      <td>O</td>\n",
              "    </tr>\n",
              "    <tr>\n",
              "      <th>32</th>\n",
              "      <td>its</td>\n",
              "      <td>O</td>\n",
              "    </tr>\n",
              "    <tr>\n",
              "      <th>33</th>\n",
              "      <td>better</td>\n",
              "      <td>B-Predicate</td>\n",
              "    </tr>\n",
              "    <tr>\n",
              "      <th>34</th>\n",
              "      <td>then</td>\n",
              "      <td>O</td>\n",
              "    </tr>\n",
              "    <tr>\n",
              "      <th>35</th>\n",
              "      <td>ios</td>\n",
              "      <td>B-Object</td>\n",
              "    </tr>\n",
              "    <tr>\n",
              "      <th>36</th>\n",
              "      <td>apple</td>\n",
              "      <td>O</td>\n",
              "    </tr>\n",
              "    <tr>\n",
              "      <th>37</th>\n",
              "      <td>.</td>\n",
              "      <td>O</td>\n",
              "    </tr>\n",
              "    <tr>\n",
              "      <th>38</th>\n",
              "      <td>the</td>\n",
              "      <td>O</td>\n",
              "    </tr>\n",
              "    <tr>\n",
              "      <th>39</th>\n",
              "      <td>version</td>\n",
              "      <td>O</td>\n",
              "    </tr>\n",
              "    <tr>\n",
              "      <th>40</th>\n",
              "      <td>we</td>\n",
              "      <td>O</td>\n",
              "    </tr>\n",
              "    <tr>\n",
              "      <th>41</th>\n",
              "      <td>showed</td>\n",
              "      <td>O</td>\n",
              "    </tr>\n",
              "    <tr>\n",
              "      <th>42</th>\n",
              "      <td>here</td>\n",
              "      <td>O</td>\n",
              "    </tr>\n",
              "    <tr>\n",
              "      <th>43</th>\n",
              "      <td>is</td>\n",
              "      <td>O</td>\n",
              "    </tr>\n",
              "    <tr>\n",
              "      <th>44</th>\n",
              "      <td>ios</td>\n",
              "      <td>B-Object</td>\n",
              "    </tr>\n",
              "    <tr>\n",
              "      <th>45</th>\n",
              "      <td>only</td>\n",
              "      <td>O</td>\n",
              "    </tr>\n",
              "    <tr>\n",
              "      <th>46</th>\n",
              "      <td>,</td>\n",
              "      <td>O</td>\n",
              "    </tr>\n",
              "    <tr>\n",
              "      <th>47</th>\n",
              "      <td>because</td>\n",
              "      <td>O</td>\n",
              "    </tr>\n",
              "    <tr>\n",
              "      <th>48</th>\n",
              "      <td>the</td>\n",
              "      <td>O</td>\n",
              "    </tr>\n",
              "    <tr>\n",
              "      <th>49</th>\n",
              "      <td>ios</td>\n",
              "      <td>B-Object</td>\n",
              "    </tr>\n",
              "  </tbody>\n",
              "</table>\n",
              "</div>\n",
              "    <div class=\"colab-df-buttons\">\n",
              "\n",
              "  <div class=\"colab-df-container\">\n",
              "    <button class=\"colab-df-convert\" onclick=\"convertToInteractive('df-9614a2e7-5f72-41d9-afc7-d27618834b39')\"\n",
              "            title=\"Convert this dataframe to an interactive table.\"\n",
              "            style=\"display:none;\">\n",
              "\n",
              "  <svg xmlns=\"http://www.w3.org/2000/svg\" height=\"24px\" viewBox=\"0 -960 960 960\">\n",
              "    <path d=\"M120-120v-720h720v720H120Zm60-500h600v-160H180v160Zm220 220h160v-160H400v160Zm0 220h160v-160H400v160ZM180-400h160v-160H180v160Zm440 0h160v-160H620v160ZM180-180h160v-160H180v160Zm440 0h160v-160H620v160Z\"/>\n",
              "  </svg>\n",
              "    </button>\n",
              "\n",
              "  <style>\n",
              "    .colab-df-container {\n",
              "      display:flex;\n",
              "      gap: 12px;\n",
              "    }\n",
              "\n",
              "    .colab-df-convert {\n",
              "      background-color: #E8F0FE;\n",
              "      border: none;\n",
              "      border-radius: 50%;\n",
              "      cursor: pointer;\n",
              "      display: none;\n",
              "      fill: #1967D2;\n",
              "      height: 32px;\n",
              "      padding: 0 0 0 0;\n",
              "      width: 32px;\n",
              "    }\n",
              "\n",
              "    .colab-df-convert:hover {\n",
              "      background-color: #E2EBFA;\n",
              "      box-shadow: 0px 1px 2px rgba(60, 64, 67, 0.3), 0px 1px 3px 1px rgba(60, 64, 67, 0.15);\n",
              "      fill: #174EA6;\n",
              "    }\n",
              "\n",
              "    .colab-df-buttons div {\n",
              "      margin-bottom: 4px;\n",
              "    }\n",
              "\n",
              "    [theme=dark] .colab-df-convert {\n",
              "      background-color: #3B4455;\n",
              "      fill: #D2E3FC;\n",
              "    }\n",
              "\n",
              "    [theme=dark] .colab-df-convert:hover {\n",
              "      background-color: #434B5C;\n",
              "      box-shadow: 0px 1px 3px 1px rgba(0, 0, 0, 0.15);\n",
              "      filter: drop-shadow(0px 1px 2px rgba(0, 0, 0, 0.3));\n",
              "      fill: #FFFFFF;\n",
              "    }\n",
              "  </style>\n",
              "\n",
              "    <script>\n",
              "      const buttonEl =\n",
              "        document.querySelector('#df-9614a2e7-5f72-41d9-afc7-d27618834b39 button.colab-df-convert');\n",
              "      buttonEl.style.display =\n",
              "        google.colab.kernel.accessAllowed ? 'block' : 'none';\n",
              "\n",
              "      async function convertToInteractive(key) {\n",
              "        const element = document.querySelector('#df-9614a2e7-5f72-41d9-afc7-d27618834b39');\n",
              "        const dataTable =\n",
              "          await google.colab.kernel.invokeFunction('convertToInteractive',\n",
              "                                                    [key], {});\n",
              "        if (!dataTable) return;\n",
              "\n",
              "        const docLinkHtml = 'Like what you see? Visit the ' +\n",
              "          '<a target=\"_blank\" href=https://colab.research.google.com/notebooks/data_table.ipynb>data table notebook</a>'\n",
              "          + ' to learn more about interactive tables.';\n",
              "        element.innerHTML = '';\n",
              "        dataTable['output_type'] = 'display_data';\n",
              "        await google.colab.output.renderOutput(dataTable, element);\n",
              "        const docLink = document.createElement('div');\n",
              "        docLink.innerHTML = docLinkHtml;\n",
              "        element.appendChild(docLink);\n",
              "      }\n",
              "    </script>\n",
              "  </div>\n",
              "\n",
              "\n",
              "<div id=\"df-ff443b6a-6cc3-4bd1-b5c5-cc17de88374b\">\n",
              "  <button class=\"colab-df-quickchart\" onclick=\"quickchart('df-ff443b6a-6cc3-4bd1-b5c5-cc17de88374b')\"\n",
              "            title=\"Suggest charts\"\n",
              "            style=\"display:none;\">\n",
              "\n",
              "<svg xmlns=\"http://www.w3.org/2000/svg\" height=\"24px\"viewBox=\"0 0 24 24\"\n",
              "     width=\"24px\">\n",
              "    <g>\n",
              "        <path d=\"M19 3H5c-1.1 0-2 .9-2 2v14c0 1.1.9 2 2 2h14c1.1 0 2-.9 2-2V5c0-1.1-.9-2-2-2zM9 17H7v-7h2v7zm4 0h-2V7h2v10zm4 0h-2v-4h2v4z\"/>\n",
              "    </g>\n",
              "</svg>\n",
              "  </button>\n",
              "\n",
              "<style>\n",
              "  .colab-df-quickchart {\n",
              "      --bg-color: #E8F0FE;\n",
              "      --fill-color: #1967D2;\n",
              "      --hover-bg-color: #E2EBFA;\n",
              "      --hover-fill-color: #174EA6;\n",
              "      --disabled-fill-color: #AAA;\n",
              "      --disabled-bg-color: #DDD;\n",
              "  }\n",
              "\n",
              "  [theme=dark] .colab-df-quickchart {\n",
              "      --bg-color: #3B4455;\n",
              "      --fill-color: #D2E3FC;\n",
              "      --hover-bg-color: #434B5C;\n",
              "      --hover-fill-color: #FFFFFF;\n",
              "      --disabled-bg-color: #3B4455;\n",
              "      --disabled-fill-color: #666;\n",
              "  }\n",
              "\n",
              "  .colab-df-quickchart {\n",
              "    background-color: var(--bg-color);\n",
              "    border: none;\n",
              "    border-radius: 50%;\n",
              "    cursor: pointer;\n",
              "    display: none;\n",
              "    fill: var(--fill-color);\n",
              "    height: 32px;\n",
              "    padding: 0;\n",
              "    width: 32px;\n",
              "  }\n",
              "\n",
              "  .colab-df-quickchart:hover {\n",
              "    background-color: var(--hover-bg-color);\n",
              "    box-shadow: 0 1px 2px rgba(60, 64, 67, 0.3), 0 1px 3px 1px rgba(60, 64, 67, 0.15);\n",
              "    fill: var(--button-hover-fill-color);\n",
              "  }\n",
              "\n",
              "  .colab-df-quickchart-complete:disabled,\n",
              "  .colab-df-quickchart-complete:disabled:hover {\n",
              "    background-color: var(--disabled-bg-color);\n",
              "    fill: var(--disabled-fill-color);\n",
              "    box-shadow: none;\n",
              "  }\n",
              "\n",
              "  .colab-df-spinner {\n",
              "    border: 2px solid var(--fill-color);\n",
              "    border-color: transparent;\n",
              "    border-bottom-color: var(--fill-color);\n",
              "    animation:\n",
              "      spin 1s steps(1) infinite;\n",
              "  }\n",
              "\n",
              "  @keyframes spin {\n",
              "    0% {\n",
              "      border-color: transparent;\n",
              "      border-bottom-color: var(--fill-color);\n",
              "      border-left-color: var(--fill-color);\n",
              "    }\n",
              "    20% {\n",
              "      border-color: transparent;\n",
              "      border-left-color: var(--fill-color);\n",
              "      border-top-color: var(--fill-color);\n",
              "    }\n",
              "    30% {\n",
              "      border-color: transparent;\n",
              "      border-left-color: var(--fill-color);\n",
              "      border-top-color: var(--fill-color);\n",
              "      border-right-color: var(--fill-color);\n",
              "    }\n",
              "    40% {\n",
              "      border-color: transparent;\n",
              "      border-right-color: var(--fill-color);\n",
              "      border-top-color: var(--fill-color);\n",
              "    }\n",
              "    60% {\n",
              "      border-color: transparent;\n",
              "      border-right-color: var(--fill-color);\n",
              "    }\n",
              "    80% {\n",
              "      border-color: transparent;\n",
              "      border-right-color: var(--fill-color);\n",
              "      border-bottom-color: var(--fill-color);\n",
              "    }\n",
              "    90% {\n",
              "      border-color: transparent;\n",
              "      border-bottom-color: var(--fill-color);\n",
              "    }\n",
              "  }\n",
              "</style>\n",
              "\n",
              "  <script>\n",
              "    async function quickchart(key) {\n",
              "      const quickchartButtonEl =\n",
              "        document.querySelector('#' + key + ' button');\n",
              "      quickchartButtonEl.disabled = true;  // To prevent multiple clicks.\n",
              "      quickchartButtonEl.classList.add('colab-df-spinner');\n",
              "      try {\n",
              "        const charts = await google.colab.kernel.invokeFunction(\n",
              "            'suggestCharts', [key], {});\n",
              "      } catch (error) {\n",
              "        console.error('Error during call to suggestCharts:', error);\n",
              "      }\n",
              "      quickchartButtonEl.classList.remove('colab-df-spinner');\n",
              "      quickchartButtonEl.classList.add('colab-df-quickchart-complete');\n",
              "    }\n",
              "    (() => {\n",
              "      let quickchartButtonEl =\n",
              "        document.querySelector('#df-ff443b6a-6cc3-4bd1-b5c5-cc17de88374b button');\n",
              "      quickchartButtonEl.style.display =\n",
              "        google.colab.kernel.accessAllowed ? 'block' : 'none';\n",
              "    })();\n",
              "  </script>\n",
              "</div>\n",
              "    </div>\n",
              "  </div>\n"
            ],
            "text/plain": [
              "           data       labels\n",
              "0          plus            O\n",
              "1             ,            O\n",
              "2       android     B-Object\n",
              "3            is            O\n",
              "4    developing     B-Aspect\n",
              "5             a     B-Object\n",
              "6           way            O\n",
              "7        faster  B-Predicate\n",
              "8          than            O\n",
              "9           ios     B-Object\n",
              "10           so            O\n",
              "11           it            O\n",
              "12          has            O\n",
              "13      chances            O\n",
              "14           to            O\n",
              "15       become            O\n",
              "16            a            O\n",
              "17       laptop     I-Object\n",
              "18  replacement     I-Object\n",
              "19      earlier            O\n",
              "20         than            O\n",
              "21          ios     B-Object\n",
              "22            .            O\n",
              "23         went            O\n",
              "24           to            O\n",
              "25      android     B-Object\n",
              "26      earlier            O\n",
              "27         this            O\n",
              "28         year            O\n",
              "29        after            O\n",
              "30        being            O\n",
              "31    convinced            O\n",
              "32          its            O\n",
              "33       better  B-Predicate\n",
              "34         then            O\n",
              "35          ios     B-Object\n",
              "36        apple            O\n",
              "37            .            O\n",
              "38          the            O\n",
              "39      version            O\n",
              "40           we            O\n",
              "41       showed            O\n",
              "42         here            O\n",
              "43           is            O\n",
              "44          ios     B-Object\n",
              "45         only            O\n",
              "46            ,            O\n",
              "47      because            O\n",
              "48          the            O\n",
              "49          ios     B-Object"
            ]
          },
          "execution_count": 49,
          "metadata": {},
          "output_type": "execute_result"
        }
      ],
      "source": [
        "if model_name == 'dev':\n",
        "    df_dev.head(50)\n",
        "else:\n",
        "    df_test.head(50)"
      ]
    },
    {
      "cell_type": "markdown",
      "metadata": {
        "id": "oq1DeVvrsIJT"
      },
      "source": [
        "## Saving Result Files"
      ]
    },
    {
      "cell_type": "code",
      "execution_count": 50,
      "metadata": {
        "colab": {
          "base_uri": "https://localhost:8080/"
        },
        "id": "iU77rJ-CHNZ4",
        "outputId": "220504b7-ba3c-439f-c91d-784d87e437aa"
      },
      "outputs": [
        {
          "data": {
            "text/plain": [
              "('t5/t5_10ep_16b', 'test')"
            ]
          },
          "execution_count": 50,
          "metadata": {},
          "output_type": "execute_result"
        }
      ],
      "source": [
        "dir, model_name"
      ]
    },
    {
      "cell_type": "code",
      "execution_count": 51,
      "metadata": {
        "id": "lIfq98kdmwAG"
      },
      "outputs": [],
      "source": [
        "if model_name == 'dev':\n",
        "    df_dev.to_csv('/content/drive/MyDrive/Colab Notebooks/NLP_project/results/'+dir+'_'+model_name+'.tsv',\n",
        "            header=None, index=False, quoting=3, sep='\\t', encoding='utf-8')\n",
        "else:\n",
        "    df_test.to_csv('/content/drive/MyDrive/Colab Notebooks/NLP_project/results/'+dir+'_'+model_name+'.tsv',\n",
        "            header=None, index=False, quoting=3, sep='\\t', encoding='utf-8')"
      ]
    },
    {
      "cell_type": "code",
      "execution_count": 52,
      "metadata": {
        "colab": {
          "base_uri": "https://localhost:8080/"
        },
        "id": "i4gL2jMzPbNq",
        "outputId": "982b3018-137e-449c-bdbf-4062a72e2d68"
      },
      "outputs": [
        {
          "name": "stdout",
          "output_type": "stream",
          "text": [
            "A miracle happened ^-^/***\n"
          ]
        }
      ],
      "source": [
        "with open('/content/drive/MyDrive/Colab Notebooks/NLP_project/results/'+dir+'_'+model_name+'.tsv') as input:\n",
        "    lines = [line for line in input if line.strip()]\n",
        "\n",
        "with open('/content/drive/MyDrive/Colab Notebooks/NLP_project/results/'+dir+'_'+model_name+'_post.tsv', 'w') as output:\n",
        "    i = 0\n",
        "    for line in lines:\n",
        "        # if '_nan' in line:\n",
        "        #     output.write(\"\\n\")\n",
        "        # else:\n",
        "\n",
        "        output.write(line)\n",
        "        if i+1 in (indexes_nan):\n",
        "            # print(line)\n",
        "            output.write(\"\\n\")\n",
        "        i += 1\n",
        "\n",
        "\n",
        "print('A miracle happened ^-^/***')"
      ]
    },
    {
      "cell_type": "code",
      "execution_count": null,
      "metadata": {
        "id": "86mZ-GM5PbKH"
      },
      "outputs": [],
      "source": []
    }
  ],
  "metadata": {
    "accelerator": "GPU",
    "colab": {
      "collapsed_sections": [
        "2VUka9ENtj0N"
      ],
      "gpuType": "T4",
      "provenance": []
    },
    "kernelspec": {
      "display_name": "Python 3",
      "name": "python3"
    },
    "language_info": {
      "name": "python"
    }
  },
  "nbformat": 4,
  "nbformat_minor": 0
}
